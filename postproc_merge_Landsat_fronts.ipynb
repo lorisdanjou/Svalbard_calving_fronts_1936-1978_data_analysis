{
 "cells": [
  {
   "cell_type": "code",
   "execution_count": 48,
   "metadata": {},
   "outputs": [],
   "source": [
    "import pandas as pd\n",
    "import geopandas as gpd\n",
    "import os\n",
    "import datetime"
   ]
  },
  {
   "cell_type": "markdown",
   "metadata": {},
   "source": [
    "# Read fronts & merge files"
   ]
  },
  {
   "cell_type": "code",
   "execution_count": 20,
   "metadata": {},
   "outputs": [
    {
     "data": {
      "text/plain": [
       "['fronts_19760505.shp',\n",
       " 'fronts_19760606.shp',\n",
       " 'fronts_19760709.shp',\n",
       " 'fronts_19760710.shp',\n",
       " 'fronts_19760711.shp',\n",
       " 'fronts_19760712.shp',\n",
       " 'fronts_19760716.shp',\n",
       " 'fronts_19760717.shp',\n",
       " 'fronts_19760718.shp',\n",
       " 'fronts_19760718_b.shp',\n",
       " 'fronts_19760723.shp',\n",
       " 'fronts_19780723.shp',\n",
       " 'fronts_19780812.shp',\n",
       " 'fronts_19780825.shp',\n",
       " 'fronts_19780904.shp',\n",
       " 'fronts_19780922.shp']"
      ]
     },
     "execution_count": 20,
     "metadata": {},
     "output_type": "execute_result"
    }
   ],
   "source": [
    "fronts_source = \"D:/OneDrive/Documents/Cours/4A/SFE/calving_fronts/QGIS_Landsat\"\n",
    "fronts_files = []\n",
    "\n",
    "for x in os.listdir(fronts_source):\n",
    "    if x[-3::] == \"shp\":\n",
    "        fronts_files.append(x)\n",
    "   \n",
    "fronts_files"
   ]
  },
  {
   "cell_type": "code",
   "execution_count": 21,
   "metadata": {},
   "outputs": [],
   "source": [
    "data_files = [\n",
    "    'LM02_L1GS_245002_19760505_20200907_02_T2',\n",
    "    'LM02_L1GS_242002_19760606_20200907_02_T2',\n",
    "    'LM02_L1GS_239002_19760709_20200907_02_T2',\n",
    "    'LM02_L1GS_240002_19760710_20200907_02_T2',\n",
    "    'LM02_L1GS_241002_19760711_20200907_02_T2',\n",
    "    'LM02_L1GS_224004_19760712_20200907_02_T2',\n",
    "    'LM02_L1GS_228003_19760716_20200907_02_T2',\n",
    "    'LM02_L1GS_241001_19760717_20200907_02_T2',\n",
    "    'LM02_L1GS_230003_19760718_20200907_02_T2',\n",
    "    'LM02_L1GS_230004_19760718_20200907_02_T2',\n",
    "    'LM02_L1GS_235002_19760723_20200907_02_T2',\n",
    "    'LM02_L1GS_227005_19780723_20210610_02_T2',\n",
    "    'LM03_L1GS_238003_19780812_20210611_02_T2',\n",
    "    'LM03_L1GS_238002_19780725_20210611_02_T2',\n",
    "    'LM02_L1GS_234002_19780904_20210610_02_T2',\n",
    "    'LM02_L1GS_234004_19780922_20210610_02_T2'\n",
    "]"
   ]
  },
  {
   "cell_type": "code",
   "execution_count": 46,
   "metadata": {},
   "outputs": [
    {
     "name": "stdout",
     "output_type": "stream",
     "text": [
      "434\n"
     ]
    },
    {
     "data": {
      "text/html": [
       "<div>\n",
       "<style scoped>\n",
       "    .dataframe tbody tr th:only-of-type {\n",
       "        vertical-align: middle;\n",
       "    }\n",
       "\n",
       "    .dataframe tbody tr th {\n",
       "        vertical-align: top;\n",
       "    }\n",
       "\n",
       "    .dataframe thead th {\n",
       "        text-align: right;\n",
       "    }\n",
       "</style>\n",
       "<table border=\"1\" class=\"dataframe\">\n",
       "  <thead>\n",
       "    <tr style=\"text-align: right;\">\n",
       "      <th></th>\n",
       "      <th>date</th>\n",
       "      <th>geometry</th>\n",
       "      <th>image</th>\n",
       "    </tr>\n",
       "  </thead>\n",
       "  <tbody>\n",
       "    <tr>\n",
       "      <th>0</th>\n",
       "      <td>19760505</td>\n",
       "      <td>LINESTRING (12.38191 79.53251, 12.38144 79.531...</td>\n",
       "      <td>LM02_L1GS_245002_19760505_20200907_02_T2</td>\n",
       "    </tr>\n",
       "    <tr>\n",
       "      <th>1</th>\n",
       "      <td>19760505</td>\n",
       "      <td>LINESTRING (12.38935 79.54895, 12.38853 79.549...</td>\n",
       "      <td>LM02_L1GS_245002_19760505_20200907_02_T2</td>\n",
       "    </tr>\n",
       "    <tr>\n",
       "      <th>2</th>\n",
       "      <td>19760505</td>\n",
       "      <td>LINESTRING (12.32881 79.58411, 12.32937 79.585...</td>\n",
       "      <td>LM02_L1GS_245002_19760505_20200907_02_T2</td>\n",
       "    </tr>\n",
       "    <tr>\n",
       "      <th>3</th>\n",
       "      <td>19760505</td>\n",
       "      <td>LINESTRING (12.29071 79.65163, 12.28778 79.651...</td>\n",
       "      <td>LM02_L1GS_245002_19760505_20200907_02_T2</td>\n",
       "    </tr>\n",
       "    <tr>\n",
       "      <th>4</th>\n",
       "      <td>19760505</td>\n",
       "      <td>LINESTRING (12.1169 79.65285, 12.11207 79.6529...</td>\n",
       "      <td>LM02_L1GS_245002_19760505_20200907_02_T2</td>\n",
       "    </tr>\n",
       "  </tbody>\n",
       "</table>\n",
       "</div>"
      ],
      "text/plain": [
       "       date                                           geometry  \\\n",
       "0  19760505  LINESTRING (12.38191 79.53251, 12.38144 79.531...   \n",
       "1  19760505  LINESTRING (12.38935 79.54895, 12.38853 79.549...   \n",
       "2  19760505  LINESTRING (12.32881 79.58411, 12.32937 79.585...   \n",
       "3  19760505  LINESTRING (12.29071 79.65163, 12.28778 79.651...   \n",
       "4  19760505  LINESTRING (12.1169 79.65285, 12.11207 79.6529...   \n",
       "\n",
       "                                      image  \n",
       "0  LM02_L1GS_245002_19760505_20200907_02_T2  \n",
       "1  LM02_L1GS_245002_19760505_20200907_02_T2  \n",
       "2  LM02_L1GS_245002_19760505_20200907_02_T2  \n",
       "3  LM02_L1GS_245002_19760505_20200907_02_T2  \n",
       "4  LM02_L1GS_245002_19760505_20200907_02_T2  "
      ]
     },
     "execution_count": 46,
     "metadata": {},
     "output_type": "execute_result"
    }
   ],
   "source": [
    "# load and concat all files\n",
    "\n",
    "fronts = []\n",
    "for i_ff, ff in enumerate(fronts_files):\n",
    "    fronts_i = gpd.read_file(os.path.join(fronts_source, ff)).to_crs(epsg=4326)\n",
    "    fronts_i[\"image\"] = [data_files[i_ff] for _ in range(len(fronts_i))]\n",
    "    fronts.append(fronts_i)\n",
    "fronts = pd.concat(fronts, ignore_index=True).drop(columns=[\"id\", \"year\", \"mission\"])\n",
    "print(len(fronts))\n",
    "fronts.head()"
   ]
  },
  {
   "cell_type": "code",
   "execution_count": 47,
   "metadata": {},
   "outputs": [
    {
     "data": {
      "text/html": [
       "<div>\n",
       "<style scoped>\n",
       "    .dataframe tbody tr th:only-of-type {\n",
       "        vertical-align: middle;\n",
       "    }\n",
       "\n",
       "    .dataframe tbody tr th {\n",
       "        vertical-align: top;\n",
       "    }\n",
       "\n",
       "    .dataframe thead th {\n",
       "        text-align: right;\n",
       "    }\n",
       "</style>\n",
       "<table border=\"1\" class=\"dataframe\">\n",
       "  <thead>\n",
       "    <tr style=\"text-align: right;\">\n",
       "      <th></th>\n",
       "      <th>date</th>\n",
       "      <th>geometry</th>\n",
       "      <th>image</th>\n",
       "      <th>mission</th>\n",
       "    </tr>\n",
       "  </thead>\n",
       "  <tbody>\n",
       "    <tr>\n",
       "      <th>0</th>\n",
       "      <td>19760505</td>\n",
       "      <td>LINESTRING (12.38191 79.53251, 12.38144 79.531...</td>\n",
       "      <td>LM02_L1GS_245002_19760505_20200907_02_T2</td>\n",
       "      <td>Landsat 2 MSS</td>\n",
       "    </tr>\n",
       "    <tr>\n",
       "      <th>1</th>\n",
       "      <td>19760505</td>\n",
       "      <td>LINESTRING (12.38935 79.54895, 12.38853 79.549...</td>\n",
       "      <td>LM02_L1GS_245002_19760505_20200907_02_T2</td>\n",
       "      <td>Landsat 2 MSS</td>\n",
       "    </tr>\n",
       "    <tr>\n",
       "      <th>2</th>\n",
       "      <td>19760505</td>\n",
       "      <td>LINESTRING (12.32881 79.58411, 12.32937 79.585...</td>\n",
       "      <td>LM02_L1GS_245002_19760505_20200907_02_T2</td>\n",
       "      <td>Landsat 2 MSS</td>\n",
       "    </tr>\n",
       "    <tr>\n",
       "      <th>3</th>\n",
       "      <td>19760505</td>\n",
       "      <td>LINESTRING (12.29071 79.65163, 12.28778 79.651...</td>\n",
       "      <td>LM02_L1GS_245002_19760505_20200907_02_T2</td>\n",
       "      <td>Landsat 2 MSS</td>\n",
       "    </tr>\n",
       "    <tr>\n",
       "      <th>4</th>\n",
       "      <td>19760505</td>\n",
       "      <td>LINESTRING (12.1169 79.65285, 12.11207 79.6529...</td>\n",
       "      <td>LM02_L1GS_245002_19760505_20200907_02_T2</td>\n",
       "      <td>Landsat 2 MSS</td>\n",
       "    </tr>\n",
       "  </tbody>\n",
       "</table>\n",
       "</div>"
      ],
      "text/plain": [
       "       date                                           geometry  \\\n",
       "0  19760505  LINESTRING (12.38191 79.53251, 12.38144 79.531...   \n",
       "1  19760505  LINESTRING (12.38935 79.54895, 12.38853 79.549...   \n",
       "2  19760505  LINESTRING (12.32881 79.58411, 12.32937 79.585...   \n",
       "3  19760505  LINESTRING (12.29071 79.65163, 12.28778 79.651...   \n",
       "4  19760505  LINESTRING (12.1169 79.65285, 12.11207 79.6529...   \n",
       "\n",
       "                                      image        mission  \n",
       "0  LM02_L1GS_245002_19760505_20200907_02_T2  Landsat 2 MSS  \n",
       "1  LM02_L1GS_245002_19760505_20200907_02_T2  Landsat 2 MSS  \n",
       "2  LM02_L1GS_245002_19760505_20200907_02_T2  Landsat 2 MSS  \n",
       "3  LM02_L1GS_245002_19760505_20200907_02_T2  Landsat 2 MSS  \n",
       "4  LM02_L1GS_245002_19760505_20200907_02_T2  Landsat 2 MSS  "
      ]
     },
     "execution_count": 47,
     "metadata": {},
     "output_type": "execute_result"
    }
   ],
   "source": [
    "# update mission name\n",
    "mission = []\n",
    "for i in range(len(fronts)):\n",
    "    mission.append(\"Landsat \" + fronts.iloc[i].image[3:4] + \" MSS\")\n",
    "fronts[\"mission\"] = mission\n",
    "fronts.head()"
   ]
  },
  {
   "cell_type": "code",
   "execution_count": 55,
   "metadata": {},
   "outputs": [
    {
     "data": {
      "text/html": [
       "<div>\n",
       "<style scoped>\n",
       "    .dataframe tbody tr th:only-of-type {\n",
       "        vertical-align: middle;\n",
       "    }\n",
       "\n",
       "    .dataframe tbody tr th {\n",
       "        vertical-align: top;\n",
       "    }\n",
       "\n",
       "    .dataframe thead th {\n",
       "        text-align: right;\n",
       "    }\n",
       "</style>\n",
       "<table border=\"1\" class=\"dataframe\">\n",
       "  <thead>\n",
       "    <tr style=\"text-align: right;\">\n",
       "      <th></th>\n",
       "      <th>date</th>\n",
       "      <th>geometry</th>\n",
       "      <th>image</th>\n",
       "      <th>mission</th>\n",
       "      <th>timestamp</th>\n",
       "    </tr>\n",
       "  </thead>\n",
       "  <tbody>\n",
       "    <tr>\n",
       "      <th>0</th>\n",
       "      <td>19760505</td>\n",
       "      <td>LINESTRING (12.38191 79.53251, 12.38144 79.531...</td>\n",
       "      <td>LM02_L1GS_245002_19760505_20200907_02_T2</td>\n",
       "      <td>Landsat 2 MSS</td>\n",
       "      <td>1976-05-05</td>\n",
       "    </tr>\n",
       "    <tr>\n",
       "      <th>1</th>\n",
       "      <td>19760505</td>\n",
       "      <td>LINESTRING (12.38935 79.54895, 12.38853 79.549...</td>\n",
       "      <td>LM02_L1GS_245002_19760505_20200907_02_T2</td>\n",
       "      <td>Landsat 2 MSS</td>\n",
       "      <td>1976-05-05</td>\n",
       "    </tr>\n",
       "    <tr>\n",
       "      <th>2</th>\n",
       "      <td>19760505</td>\n",
       "      <td>LINESTRING (12.32881 79.58411, 12.32937 79.585...</td>\n",
       "      <td>LM02_L1GS_245002_19760505_20200907_02_T2</td>\n",
       "      <td>Landsat 2 MSS</td>\n",
       "      <td>1976-05-05</td>\n",
       "    </tr>\n",
       "    <tr>\n",
       "      <th>3</th>\n",
       "      <td>19760505</td>\n",
       "      <td>LINESTRING (12.29071 79.65163, 12.28778 79.651...</td>\n",
       "      <td>LM02_L1GS_245002_19760505_20200907_02_T2</td>\n",
       "      <td>Landsat 2 MSS</td>\n",
       "      <td>1976-05-05</td>\n",
       "    </tr>\n",
       "    <tr>\n",
       "      <th>4</th>\n",
       "      <td>19760505</td>\n",
       "      <td>LINESTRING (12.1169 79.65285, 12.11207 79.6529...</td>\n",
       "      <td>LM02_L1GS_245002_19760505_20200907_02_T2</td>\n",
       "      <td>Landsat 2 MSS</td>\n",
       "      <td>1976-05-05</td>\n",
       "    </tr>\n",
       "  </tbody>\n",
       "</table>\n",
       "</div>"
      ],
      "text/plain": [
       "       date                                           geometry  \\\n",
       "0  19760505  LINESTRING (12.38191 79.53251, 12.38144 79.531...   \n",
       "1  19760505  LINESTRING (12.38935 79.54895, 12.38853 79.549...   \n",
       "2  19760505  LINESTRING (12.32881 79.58411, 12.32937 79.585...   \n",
       "3  19760505  LINESTRING (12.29071 79.65163, 12.28778 79.651...   \n",
       "4  19760505  LINESTRING (12.1169 79.65285, 12.11207 79.6529...   \n",
       "\n",
       "                                      image        mission  timestamp  \n",
       "0  LM02_L1GS_245002_19760505_20200907_02_T2  Landsat 2 MSS 1976-05-05  \n",
       "1  LM02_L1GS_245002_19760505_20200907_02_T2  Landsat 2 MSS 1976-05-05  \n",
       "2  LM02_L1GS_245002_19760505_20200907_02_T2  Landsat 2 MSS 1976-05-05  \n",
       "3  LM02_L1GS_245002_19760505_20200907_02_T2  Landsat 2 MSS 1976-05-05  \n",
       "4  LM02_L1GS_245002_19760505_20200907_02_T2  Landsat 2 MSS 1976-05-05  "
      ]
     },
     "execution_count": 55,
     "metadata": {},
     "output_type": "execute_result"
    }
   ],
   "source": [
    "# add timestamp\n",
    "timestamp = []\n",
    "for i in range(len(fronts)):\n",
    "    date = fronts.date.iloc[i]\n",
    "    timestamp_i = datetime.datetime(int(date[0:4]), int(date[4:6]), int(date[6:8]))\n",
    "    timestamp.append(timestamp_i)\n",
    "fronts[\"timestamp\"] = timestamp\n",
    "fronts.head()"
   ]
  },
  {
   "cell_type": "code",
   "execution_count": null,
   "metadata": {},
   "outputs": [
    {
     "name": "stderr",
     "output_type": "stream",
     "text": [
      "C:\\Users\\loris\\AppData\\Roaming\\Python\\Python312\\site-packages\\pyogrio\\raw.py:723: RuntimeWarning: Field timestamp create as date field, though DateTime requested.\n",
      "  ogr_write(\n"
     ]
    }
   ],
   "source": [
    "# export to shp\n",
    "# fronts.to_file(\"D:/OneDrive/Documents/Cours/4A/SFE/calving_fronts/Landsat_MSS_fronts.shp\", driver=\"ESRI Shapefile\")"
   ]
  }
 ],
 "metadata": {
  "kernelspec": {
   "display_name": "base",
   "language": "python",
   "name": "python3"
  },
  "language_info": {
   "codemirror_mode": {
    "name": "ipython",
    "version": 3
   },
   "file_extension": ".py",
   "mimetype": "text/x-python",
   "name": "python",
   "nbconvert_exporter": "python",
   "pygments_lexer": "ipython3",
   "version": "3.12.3"
  }
 },
 "nbformat": 4,
 "nbformat_minor": 2
}
